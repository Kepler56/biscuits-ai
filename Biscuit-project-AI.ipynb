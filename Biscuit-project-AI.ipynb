{
 "cells": [
  {
   "cell_type": "markdown",
   "metadata": {},
   "source": [
    "<style>\n",
    "    h1{\n",
    "        text-align:center;\n",
    "    }\n",
    "    h2{\n",
    "        margin-left:5rem;\n",
    "        text-decoration:underline;\n",
    "    }\n",
    "</style>\n",
    "\n",
    "<h1>Artificial Intelligence Algorithms - MESIIN476023</h1>\n",
    "\n",
    "<h2>Problem Description</h2>\n",
    "\n",
    "<p>The problem at hand is to optimize the production of biscuits from a single roll of dough in a biscuit manufacturing factory for the Christmas season. The factory aims to produce four types of biscuits with different sizes and prices all while using the available roll of dough. The goal is to maximize biscuit production while ensuring the highest possible profit.</p>\n",
    "\n",
    "<h2>Algorithms</h2>\n",
    "\n",
    "<p>For solving this problem we chose to use 2 different algorithms: <b>Genetic Algorithm (GA)</b> and <b>Greedy Search Algorithm</b>. The former is from the local search algorithms and the latter a heuristic algorithm. Let's give a small explanation of each algorithm before proceeding by using the course slides.</p>\n",
    "\n",
    "<h3>Genetic Algorithm (GA)</h3>\n",
    "<p>Genetic algorithms (or GA) are inspired by natural evolution and are particularly useful in optimization and search problems with large state spaces.\n",
    "Given a problem, algorithms in the domain make use of a population of solutions (also called states), where each solution/state represents a feasible solution. At each iteration (often called generation), the population gets updated using methods inspired by biology and evolution, like crossover, mutation and natural selection.</p>\n",
    "\n",
    "<h3>Greedy Search Algorithm</h3>\n",
    "<p>Greedy makes locally optimal choices at each step with the aim of finding a solution. It starts with an initial solution and iteratively expands it by selecting the best available option at each decision point.</p>"
   ]
  },
  {
   "cell_type": "markdown",
   "metadata": {},
   "source": [
    "<style>\n",
    "    h1{\n",
    "        text-align:center;\n",
    "    }\n",
    "    h2{\n",
    "        margin-left:5rem;\n",
    "        text-decoration:underline;\n",
    "    }\n",
    "</style>\n",
    "\n",
    "<h2>Genetic Algorithm (GA)</h2>\n",
    "\n",
    "Let's start with the implementation of the Genetic Algorithm (GA). For this we implemented two classes <b>Dough</b> and <b>Biscuits</b> that we saved in other <i>.py</i> files for a more object-oriented and organized code. We know that the implementation of the GA works in the following way:\n",
    "\n",
    "1. Initialization: Start with a population of randomly generated routes.\n",
    "2. Define the fitness function\n",
    "3. Selection: Select the best routes based on their fitness (shortest distances).\n",
    "4. Crossover (Recombination): Create new routes by combining pairs of the best routes.\n",
    "5. Mutation: Introduce random changes into the new routes.\n",
    "6. Replacement: Replace the old population with the new population of routes.\n",
    "7. Termination: Stop if a maximum number of iterations is reached or if the best route hasn't improved for a certain number of iterations.\n",
    "\n",
    "But first we will start by importing the two classes and libraries that will be needed for solving this problem."
   ]
  },
  {
   "cell_type": "code",
   "execution_count": 335,
   "metadata": {},
   "outputs": [],
   "source": [
    "import numpy as np\n",
    "import dough\n",
    "import biscuits\n",
    "import random"
   ]
  },
  {
   "cell_type": "markdown",
   "metadata": {},
   "source": [
    "Now that we have the corresponding classes and librairies that will be useful to solve the problem, we can create instances of the <b>Dough</b> and <b>Biscuits</b> classes based on the benchmark that was given by the company."
   ]
  },
  {
   "cell_type": "code",
   "execution_count": 336,
   "metadata": {},
   "outputs": [],
   "source": [
    "# The length of the roll of dough is set to 500 units.\n",
    "LENGTH = 500\n",
    "\n",
    "dough = Dough(LENGTH)\n",
    "dough.load_defects(\"defects.csv\")\n",
    "\n",
    "# The biscuit manufacturing factory aims to produce 4 types of biscuits:\n",
    "\n",
    "biscuit0 = Biscuit(0, 4, 6, {'a' : 4, 'b' : 2, 'c' : 3})\n",
    "biscuit1 = Biscuit(1, 8, 12, {'a' : 5, 'b' : 4, 'c' : 4})\n",
    "biscuit2 = Biscuit(2, 2, 1, {'a' : 1, 'b' : 2, 'c' : 1})\n",
    "biscuit3 = Biscuit(3, 5, 8, {'a' : 2, 'b' : 3, 'c' : 2})\n",
    "\n",
    "biscuits = [biscuit0, biscuit1, biscuit2, biscuit3]"
   ]
  },
  {
   "cell_type": "markdown",
   "metadata": {},
   "source": [
    "Let's move on to the implementation of the genetic algorithm:\n",
    "\n",
    "<h3>1. Initialization</h3>"
   ]
  },
  {
   "cell_type": "code",
   "execution_count": 337,
   "metadata": {},
   "outputs": [],
   "source": [
    "\"\"\"\n",
    "    In the initialization process, we will assign a random number of each type of biscuit to the roll of dough. \n",
    "    Biscuit0, Biscuit1, Biscuit2, and Biscuit3 are assigned to the roll of dough with the numbers of 0, 1, 2, and 3, respectively.\n",
    "    The types are put in the list with the corresponding sizes. The number -1 is assigned to the empty space on the roll of dough.\n",
    "    --------------------------------------------------\n",
    "    Parameters:\n",
    "        population_size: The number of individuals in the population.\n",
    "        biscuits: The list of biscuit types.\n",
    "        dough: The roll of dough.\n",
    "    --------------------------------------------------\n",
    "    Returns:\n",
    "        population: A list of individuals in the population.\n",
    "\"\"\"\n",
    "def initial_population(population_size, biscuits, dough):\n",
    "    population = []\n",
    "\n",
    "    for _ in range(population_size):\n",
    "        individual = []\n",
    "        position = 0\n",
    "\n",
    "        while position < dough.length:\n",
    "            selected_biscuit = random.choice(biscuits)\n",
    "            next_position = position + selected_biscuit.size\n",
    "\n",
    "            # Check if the biscuit fits in the remaining dough length, if not we fill the remaining dough with -1\n",
    "            if next_position > dough.length:\n",
    "                individual.extend([-1] * (dough.length - position))\n",
    "                break\n",
    "\n",
    "            # We count the number of defects for each class in the position that the biscuit will be placed\n",
    "            defect_count = {defect_class: 0 for defect_class in ['a', 'b', 'c']}\n",
    "            for p in range(position, next_position):\n",
    "                if p in dough.defects:\n",
    "                    defect_count[dough.defects[p]] += 1\n",
    "\n",
    "            # We check to see if the number of defects in the position that the biscuit will be placed is less than the maximum allowed number of defects for the biscuit\n",
    "            if not selected_biscuit.check_defect_threshold(defect_count):\n",
    "                individual.extend([selected_biscuit.id] * selected_biscuit.size)\n",
    "                position = next_position\n",
    "            else:\n",
    "                individual.append(-1)\n",
    "                position += 1\n",
    "\n",
    "        # Since there was a problem before where the individuals had different lengths not corresponding to the benchmark in this part we ensure that individual length matches dough length\n",
    "        individual = individual[:dough.length]\n",
    "        population.append(individual)\n",
    "\n",
    "    return population"
   ]
  },
  {
   "cell_type": "markdown",
   "metadata": {},
   "source": [
    "<h3>2. Fitness function</h3>\n",
    "\n",
    "In our fitness function we will try to maximize the value of the solution which will be the sum of the values of the individual biscuits placed on it. \n",
    "\n",
    "$$\n",
    "max \\quad f(x) \\quad with \\quad f(x) = \\sum_{i=1}^{n} x_i \\quad and \\quad x_i \\quad the \\quad value/price \\quad of \\quad each \\quad biscuit \\quad type.\n",
    "$$"
   ]
  },
  {
   "cell_type": "code",
   "execution_count": 338,
   "metadata": {},
   "outputs": [],
   "source": [
    "\"\"\"\n",
    "    Calculate the fitness of an individual in the population. To do so, we will skip if the current position is empty (-1). If the position is not empty, we check the biscuit\n",
    "    type and calculate the value of that biscuit before moving on to the next. We will add the value of the biscuit to the total value and move to the next position.\n",
    "    ----------------\n",
    "    Parameters:\n",
    "        individual: The individual from the population, a list of biscuit types placed on the dough that represents a possible solution.\n",
    "        biscuits: List of biscuit objects, each with a specific value.\n",
    "    ----------------\n",
    "    Returns:\n",
    "        int: The total value of all biscuits in the individual solution.\n",
    "\"\"\"\n",
    "\n",
    "def fitness(individual, biscuits):\n",
    "    total_value = 0\n",
    "    i = 0\n",
    "    while i < len(individual):\n",
    "        biscuit_type = individual[i]\n",
    "        \n",
    "        if biscuit_type == -1:\n",
    "            i += 1\n",
    "            continue\n",
    "        biscuit = biscuits[biscuit_type]\n",
    "        if all(biscuit_type == individual[j] for j in range(i, min(i + biscuit.size, len(individual)))):\n",
    "            total_value += biscuit.value\n",
    "            i += biscuit.size\n",
    "        else:\n",
    "            i += 1\n",
    "\n",
    "    return total_value"
   ]
  },
  {
   "cell_type": "markdown",
   "metadata": {},
   "source": [
    "<h3>3. Selection phase</h3>\n",
    "\n",
    "For the selection phase, individuals are selected from the population so that they can be the parents for the next generation based on their fitness. Individuals with higher fitness have a higher probability of being selected, mimicking the natural selection process. We will use elitism and the roulette wheel selection for this part."
   ]
  },
  {
   "cell_type": "code",
   "execution_count": 339,
   "metadata": {},
   "outputs": [],
   "source": [
    "\"\"\"\n",
    "    Select individuals for the next generation using elitism and fitness-proportional selection. We first sort the population by fitness in descending order. Then, we select the \n",
    "    elite individuals with the help of elite_size. The total fitness is calculated by summing the fitness of all individuals in the population.\n",
    "    ----------------\n",
    "    Parameters:\n",
    "        fitness: function to calculate the fitness of an individual.\n",
    "        population: The current population of individuals.\n",
    "        n_population: The total number of individuals in the population.\n",
    "        elite_size: The number of elite individuals to carry over to the next generation.\n",
    "    ----------------\n",
    "    Returns:\n",
    "        list: The new generation of individuals.\n",
    "\"\"\"\n",
    "\n",
    "def select_elitismRoulette(fitness, population, n_population, elite_size, biscuits):\n",
    "    sorted_population = sorted(population, key=lambda individual: fitness(individual, biscuits), reverse=True)\n",
    "    elites = sorted_population[:elite_size]\n",
    "\n",
    "    # Roulette wheel selection\n",
    "    total_fitness = sum(fitness(individual, biscuits) for individual in sorted_population)\n",
    "    selection_probabilities = [fitness(individual, biscuits) / total_fitness for individual in sorted_population]\n",
    "    selected_via_roulette = []\n",
    "    for _ in range(n_population - elite_size):\n",
    "        selected_via_roulette.append(sorted_population[roulette_wheel_choice(selection_probabilities)])\n",
    "\n",
    "    # Combine elites and individuals selected via roulette wheel\n",
    "    new_generation = elites + selected_via_roulette\n",
    "\n",
    "    return new_generation\n",
    "\n",
    "def roulette_wheel_choice(selection_probabilities):\n",
    "    cumulative_probabilities = [sum(selection_probabilities[:i+1]) for i in range(len(selection_probabilities))]\n",
    "    random_number = random.random()\n",
    "\n",
    "    for index, cumulative_probability in enumerate(cumulative_probabilities):\n",
    "        if random_number < cumulative_probability:\n",
    "            return index"
   ]
  },
  {
   "cell_type": "markdown",
   "metadata": {},
   "source": [
    "<h3>4. Crossover</h3>\n",
    "\n",
    "Now that the selection has been made, individuals can produce and make a child. This offspring bears characteristics from both of its parents. There are many ways we can implement this crossover. Here we will try the <b>uniform crossover</b>. "
   ]
  },
  {
   "cell_type": "code",
   "execution_count": 340,
   "metadata": {},
   "outputs": [],
   "source": [
    "\"\"\"\n",
    "In the uniform crossover, we will iterate over the parents and swap the elements with a probability of 0.5.\n",
    "\"\"\"\n",
    "def uniform_crossover(parent1, parent2):\n",
    "    child1, child2 = [], []\n",
    "    for i in range(len(parent1)):\n",
    "        if random.random() < 0.5:\n",
    "            child1.append(parent1[i])\n",
    "            child2.append(parent2[i])\n",
    "        else:\n",
    "            child1.append(parent2[i])\n",
    "            child2.append(parent1[i])\n",
    "    return child1, child2"
   ]
  },
  {
   "cell_type": "markdown",
   "metadata": {},
   "source": [
    "<h3>5. Mutation</h3>\n",
    "\n",
    "The mutation function will randomly alter the type of biscuit at one or more positions in an individual's arrangement. "
   ]
  },
  {
   "cell_type": "code",
   "execution_count": 341,
   "metadata": {},
   "outputs": [],
   "source": [
    "\"\"\"\n",
    "    Mutate an individual by randomly changing the biscuit type at some positions.\n",
    "    ----------------\n",
    "    Parameters:\n",
    "        individual: The individual to be mutated.\n",
    "        mutation_rate: The probability of each gene (biscuit position) being mutated.\n",
    "        biscuits: List of possible biscuit types.\n",
    "    ----------------\n",
    "    Returns:\n",
    "        list: The mutated individual.\n",
    "    \"\"\"\n",
    "\n",
    "def mutate(individual, mutation_rate, biscuits):\n",
    "    mutated_individual = individual.copy()\n",
    "    for i in range(len(mutated_individual)):\n",
    "        if random.random() < mutation_rate:\n",
    "            new_biscuit_type = random.choice(range(len(biscuits)))\n",
    "            mutated_individual[i] = new_biscuit_type\n",
    "    return mutated_individual"
   ]
  },
  {
   "cell_type": "markdown",
   "metadata": {},
   "source": [
    "<h3>Implementation of the GA</h3>"
   ]
  },
  {
   "cell_type": "markdown",
   "metadata": {},
   "source": [
    "To create a genetic algorithm (GA) for the biscuit manufacturing problem, we need to integrate all the components mentioned previouslt: initialization, fitness evaluation, selection, crossover, and mutation. The parameters of the method are the following: biscuits, population_size, generations, mutation_rate, and elite_size. "
   ]
  },
  {
   "cell_type": "code",
   "execution_count": 342,
   "metadata": {},
   "outputs": [
    {
     "name": "stdout",
     "output_type": "stream",
     "text": [
      "Final Best Fitness: 724\n",
      "Best Solution: [0, 0, 0, 0, 0, 0, 0, 0, 1, 1, 1, 1, 1, 1, 1, 1, 0, 0, 0, 0, 0, 0, 0, 0, 3, 3, 3, 3, 3, 0, 0, 0, 0, 3, 3, 3, 3, 3, 1, 1, 1, 1, 1, 1, 1, 1, 3, 3, 3, 3, 3, 1, 1, 1, 1, 1, 1, 1, 1, 0, 0, 0, 0, 2, 2, 0, 0, 0, 0, 2, 2, 0, 0, 0, 0, 1, 1, 1, 1, 1, 1, 1, 1, 0, 0, 0, 0, 3, 3, 3, 3, 3, 3, 3, 3, 3, 3, -1, 3, 3, 3, 3, 3, 3, 3, 3, 3, 3, 0, 0, 0, 0, 0, 0, 0, 0, 3, 3, 3, 3, 3, 3, 3, 3, 3, 3, 3, 3, 3, 3, 3, 2, 2, 1, 1, 1, 1, 1, 1, 1, 1, 0, 0, 0, 0, -1, 0, 0, 0, 0, 0, 0, 0, 0, 1, 1, 1, 1, 1, 1, 1, 1, 0, 0, 0, 0, -1, -1, 0, 0, 0, 0, 3, 3, 3, 3, 3, 3, 3, 3, 3, 3, 3, 3, 3, 3, 3, 2, 2, 0, 0, 0, 0, 3, 3, 3, 3, 3, 0, 0, 0, 0, 1, 1, 1, 1, 1, 1, 1, 1, 0, 0, 0, 0, 1, 1, 1, 1, 1, 1, 1, 1, 3, 3, 3, 3, 3, 0, 0, 0, 0, 1, 1, 1, 1, 1, 1, 1, 1, 0, 0, 0, 0, 1, 1, 1, 1, 1, 1, 1, 1, 0, 0, 0, 0, 1, 1, 1, 1, 1, 1, 1, 1, 3, 3, 3, 3, 3, 3, 3, 3, 3, 3, 3, 3, 3, 3, 3, 0, 0, 0, 0, 0, 0, 0, 0, 2, 2, 3, 3, 3, 3, 3, 1, 1, 1, 1, 1, 1, 1, 1, 0, 0, 0, 0, 2, 2, 0, 0, 0, 0, 0, 0, 0, 0, 3, 3, 3, 3, 3, 0, 0, 0, 0, 3, 3, 3, 3, 3, 1, 1, 1, 1, 1, 1, 1, 1, 1, 1, 1, 1, 1, 1, 1, 1, 1, 1, 1, 1, 1, 1, 1, 1, 0, 0, 0, 0, 1, 1, 1, 1, 1, 1, 1, 1, -1, 0, 0, 0, 0, 3, 3, 3, 3, 3, 1, 1, 1, 1, 1, 1, 1, 1, -1, 0, 0, 0, 0, 1, 1, 1, 1, 1, 1, 1, 1, 3, 3, 3, 3, 3, 3, 3, 3, 3, 3, -1, -1, 2, 2, 0, 0, 0, 0, 1, 1, 1, 1, 1, 1, 1, 1, 1, 1, 1, 1, 1, 1, 1, 1, -1, -1, 1, 1, 1, 1, 1, 1, 1, 1, 0, 0, 0, 0, 1, 1, 1, 1, 1, 1, 1, 1, 1, 1, 1, 1, 1, 1, 1, 1, 1, 1, 1, 1, 1, 1, 1, 1, 0, 0, 0, 0, 0, 0, 0, 0, 1, 1, 1, 1, 1, 1, 1, 1, 2, 2, 1, 1, 1, 1, 1, 1, 1, 1, 2, 2, 2, 2, -1, -1]\n"
     ]
    }
   ],
   "source": [
    "def genetic_algorithm(biscuits, population_size, generations, mutation_rate, elite_size):\n",
    "    # Initialize the population\n",
    "    population = initial_population(population_size, biscuits, dough)\n",
    "    best_individual = max(population, key=lambda ind: fitness(ind, biscuits))\n",
    "\n",
    "    best_fitness = fitness(best_individual, biscuits)\n",
    "\n",
    "    # Evolution loop\n",
    "    for _ in range(generations):\n",
    "        new_population = []\n",
    "\n",
    "        # Apply crossover and mutation\n",
    "        for _ in range(population_size // 2): \n",
    "            parent1, parent2 = select_elitismRoulette(fitness, population, population_size, elite_size, biscuits)[0], \\\n",
    "                               select_elitismRoulette(fitness, population, population_size, elite_size, biscuits)[0]\n",
    "\n",
    "            # Perform crossover\n",
    "            child1, child2 = uniform_crossover(parent1, parent2)  # or two_point_crossover or uniform_crossover\n",
    "            \n",
    "            # Perform mutation\n",
    "            child1 = mutate(child1, mutation_rate, biscuits)\n",
    "            child2 = mutate(child2, mutation_rate, biscuits)\n",
    "\n",
    "            new_population.extend([child1, child2])\n",
    "\n",
    "        # Replace old population with new population\n",
    "        population = new_population\n",
    "        current_best_individual = max(population, key=lambda ind: fitness(ind, biscuits))\n",
    "        current_best_fitness = fitness(current_best_individual, biscuits)\n",
    "\n",
    "        # Update best solution found so far\n",
    "        if current_best_fitness > best_fitness:\n",
    "            best_fitness = current_best_fitness\n",
    "            best_individual = current_best_individual\n",
    "\n",
    "    print(f\"Final Best Fitness: {best_fitness}\")\n",
    "    return best_individual\n",
    "\n",
    "best_solution = genetic_algorithm(biscuits, population_size=100, generations=1000, mutation_rate=0.05, elite_size=10)\n",
    "print(\"Best Solution:\", best_solution)"
   ]
  },
  {
   "cell_type": "markdown",
   "metadata": {},
   "source": [
    "At the end we found a best fitness score of 724 but the algorithm took 42 minutes to run for a population of 100 which is a very long time. Let us see what we can find with the next algorithm: <b>Greedy Search Algorithm</b>."
   ]
  },
  {
   "cell_type": "markdown",
   "metadata": {},
   "source": [
    "<style>\n",
    "    h1{\n",
    "        text-align:center;\n",
    "    }\n",
    "    h2{\n",
    "        margin-left:5rem;\n",
    "        text-decoration:underline;\n",
    "    }\n",
    "</style>\n",
    "\n",
    "<h2>Greedy Search</h2>\n",
    "\n"
   ]
  },
  {
   "cell_type": "code",
   "execution_count": 346,
   "metadata": {},
   "outputs": [],
   "source": [
    "import pandas as pd\n",
    "\n",
    "# Load defects data\n",
    "defects_df = pd.read_csv('defects.csv')\n",
    "defects = defects_df.groupby('class')['x'].apply(list).to_dict()\n",
    "\n",
    "# Biscuits definition\n",
    "biscuits = [\n",
    "    {\"id\": 0, \"length\": 4, \"value\": 6, \"defects\": {'a': 4, 'b': 2, 'c': 3}},\n",
    "    {\"id\": 1, \"length\": 8, \"value\": 12, \"defects\": {'a': 5, 'b': 4, 'c': 4}},\n",
    "    {\"id\": 2, \"length\": 2, \"value\": 1, \"defects\": {'a': 1, 'b': 2, 'c': 1}},\n",
    "    {\"id\": 3, \"length\": 5, \"value\": 8, \"defects\": {'a': 2, 'b': 3, 'c': 2}},\n",
    "]\n",
    "\n",
    "DOUGH_LENGTH = 500"
   ]
  },
  {
   "cell_type": "markdown",
   "metadata": {},
   "source": [
    "*   Biscuit Sorting: The biscuits are sorted in descending order of their value-to-size ratio.\n",
    "\n",
    "*   Placement Logic: The place_biscuits function tries to place each biscuit on the dough roll starting from the highest value-to-size ratio, checking for defect constraints.\n",
    "\n",
    "*   Position Iteration: The algorithm iterates over the dough roll positions, trying to fit biscuits and skipping positions where placement is not possible due to defects or size constraints."
   ]
  },
  {
   "cell_type": "code",
   "execution_count": 347,
   "metadata": {},
   "outputs": [],
   "source": [
    "# Sort biscuits based on value-to-size ratio\n",
    "biscuits.sort(key=lambda x: x['value'] / x['length'], reverse=True)\n",
    "\n",
    "# Function to check if a biscuit can be placed at a position\n",
    "def can_place_biscuit(biscuit, position):\n",
    "    if position + biscuit['length'] > DOUGH_LENGTH:\n",
    "        return False\n",
    "    for defect_class, max_allowed in biscuit['defects'].items():\n",
    "        defects_in_range = [d for d in defects.get(defect_class, []) if position <= d < position + biscuit['length']]\n",
    "        if len(defects_in_range) > max_allowed:\n",
    "            return False\n",
    "    return True\n",
    "\n",
    "# Function to place biscuits on the dough\n",
    "def place_biscuits():\n",
    "    placement = []\n",
    "    position = 0\n",
    "    while position < DOUGH_LENGTH:\n",
    "        placed = False\n",
    "        for biscuit in biscuits:\n",
    "            if can_place_biscuit(biscuit, position):\n",
    "                placement.append((biscuit['id'], position))\n",
    "                position += biscuit['length']\n",
    "                placed = True\n",
    "                break\n",
    "        if not placed:\n",
    "            position += 1  # Move to the next position if no biscuit can be placed\n",
    "    return placement\n",
    "\n",
    "# Get the placement of biscuits\n",
    "biscuit_placement = place_biscuits()"
   ]
  },
  {
   "cell_type": "code",
   "execution_count": 348,
   "metadata": {},
   "outputs": [
    {
     "name": "stdout",
     "output_type": "stream",
     "text": [
      "Total value of placed biscuits: 484\n",
      "Biscuit placements (id, start position): [(1, 0), (1, 8), (3, 16), (0, 21), (0, 25), (3, 29), (2, 34), (0, 36), (0, 40), (0, 44), (2, 48), (0, 50), (3, 54), (3, 59), (0, 64), (3, 68), (0, 73), (3, 77), (1, 82), (0, 90), (2, 95), (0, 98), (3, 102), (0, 107), (0, 111), (0, 118), (0, 122), (3, 126), (3, 131), (0, 136), (0, 140), (3, 144), (3, 149), (2, 154), (3, 158), (2, 164), (3, 167), (3, 172), (0, 177), (2, 181), (2, 185), (1, 187), (3, 195), (3, 200), (3, 205), (3, 210), (3, 215), (3, 220), (3, 225), (3, 230), (3, 235), (0, 242), (0, 246), (3, 250), (3, 255), (3, 260), (3, 265), (3, 270), (0, 275), (0, 279), (3, 283), (3, 288), (1, 293), (1, 301), (3, 309), (0, 314), (3, 318), (3, 323), (0, 328), (2, 332), (3, 334), (3, 339), (3, 344), (3, 349), (1, 354), (0, 362), (0, 366), (0, 370), (0, 374), (3, 378), (3, 383), (3, 388), (3, 393), (0, 398), (3, 402), (3, 407), (3, 412), (3, 417), (3, 422), (0, 427), (0, 431), (0, 435), (3, 439), (0, 444), (3, 448), (0, 453), (3, 457), (3, 462), (3, 467), (3, 472), (0, 477), (0, 483), (3, 487), (3, 492), (2, 497)]\n"
     ]
    }
   ],
   "source": [
    "total_value = sum(biscuits[biscuit_id]['value'] for biscuit_id, _ in biscuit_placement)\n",
    "print(f\"Total value of placed biscuits: {total_value}\")\n",
    "print(\"Biscuit placements (id, start position):\", biscuit_placement)"
   ]
  },
  {
   "cell_type": "markdown",
   "metadata": {},
   "source": [
    "The heuristic used here is the value-to-size ratio, but other heuristics can also be experimented with. In the greedy algorithm, we have a much lower fitness score compared to the Genetic Algorithm (GA) but the execution speed for the Greedy Algorithm is much faster. "
   ]
  },
  {
   "cell_type": "markdown",
   "metadata": {},
   "source": [
    "<style>\n",
    "    h1{\n",
    "        text-align:center;\n",
    "    }\n",
    "    h2{\n",
    "        margin-left:5rem;\n",
    "        text-decoration:underline;\n",
    "    }\n",
    "</style>\n",
    "\n",
    "<h2>Constraint Satisfaction Problems (CSPs)</h2>\n",
    "\n",
    "To add a little bit more to the project and since the greedy never performed that well, we also decided to add a solution to the problem using the Constraint Satisfaction Problems (CSPs). We though that it would be interesting to add this algorithm as there were complex constraints that needed to be handled such as not having any overlaping biscuits, that the sum of the size of each biscuits should not exceed the length of the roll of dough, and the threshold constraint. "
   ]
  },
  {
   "cell_type": "markdown",
   "metadata": {},
   "source": [
    "We first start by importing the OR-Tools and other required libraries such as pandas to be able to read the <i>defects.csv</i> file."
   ]
  },
  {
   "cell_type": "code",
   "execution_count": 343,
   "metadata": {},
   "outputs": [],
   "source": [
    "import pandas as pd\n",
    "from ortools.sat.python import cp_model"
   ]
  },
  {
   "cell_type": "markdown",
   "metadata": {},
   "source": [
    "Then for the implementation of the problem using CSP we do the following:\n",
    "1. Define the model using the CpModel\n",
    "2. Load the defects using pandas and define the 4 types of biscuits stated by the manufacturers\n",
    "3. We define a variable for each biscuit type at each possible position\n",
    "4. We then add the necessary constraints. In the benchmark written by the company it was said to have no overlapping biscuits and the threshold for the maximum number of defects per class type should not be passed.\n",
    "5. Since we want to maximize the total value of the biscuits placed on the roll we define the objective function\n",
    "6. Then we solve the model using the OR-Tools solver method\n",
    "7. Finally we output the results which is the fitness score and the position of each biscuit type on the roll of dough. "
   ]
  },
  {
   "cell_type": "code",
   "execution_count": 344,
   "metadata": {},
   "outputs": [
    {
     "name": "stdout",
     "output_type": "stream",
     "text": [
      "Maximum value: 760.0\n",
      "Biscuit 0 placed at position 9\n",
      "Biscuit 0 placed at position 36\n",
      "Biscuit 0 placed at position 46\n",
      "Biscuit 0 placed at position 50\n",
      "Biscuit 0 placed at position 54\n",
      "Biscuit 0 placed at position 58\n",
      "Biscuit 0 placed at position 75\n",
      "Biscuit 0 placed at position 84\n",
      "Biscuit 0 placed at position 93\n",
      "Biscuit 0 placed at position 104\n",
      "Biscuit 0 placed at position 114\n",
      "Biscuit 0 placed at position 118\n",
      "Biscuit 0 placed at position 122\n",
      "Biscuit 0 placed at position 136\n",
      "Biscuit 0 placed at position 140\n",
      "Biscuit 0 placed at position 144\n",
      "Biscuit 0 placed at position 148\n",
      "Biscuit 0 placed at position 158\n",
      "Biscuit 0 placed at position 162\n",
      "Biscuit 0 placed at position 172\n",
      "Biscuit 0 placed at position 186\n",
      "Biscuit 0 placed at position 200\n",
      "Biscuit 0 placed at position 214\n",
      "Biscuit 0 placed at position 218\n",
      "Biscuit 0 placed at position 242\n",
      "Biscuit 0 placed at position 246\n",
      "Biscuit 0 placed at position 275\n",
      "Biscuit 0 placed at position 279\n",
      "Biscuit 0 placed at position 314\n",
      "Biscuit 0 placed at position 336\n",
      "Biscuit 0 placed at position 345\n",
      "Biscuit 0 placed at position 362\n",
      "Biscuit 0 placed at position 366\n",
      "Biscuit 0 placed at position 370\n",
      "Biscuit 0 placed at position 374\n",
      "Biscuit 0 placed at position 393\n",
      "Biscuit 0 placed at position 430\n",
      "Biscuit 0 placed at position 434\n",
      "Biscuit 0 placed at position 438\n",
      "Biscuit 0 placed at position 442\n",
      "Biscuit 0 placed at position 446\n",
      "Biscuit 0 placed at position 475\n",
      "Biscuit 0 placed at position 479\n",
      "Biscuit 0 placed at position 483\n",
      "Biscuit 0 placed at position 487\n",
      "Biscuit 0 placed at position 496\n",
      "Biscuit 1 placed at position 0\n",
      "Biscuit 1 placed at position 23\n",
      "Biscuit 1 placed at position 67\n",
      "Biscuit 1 placed at position 176\n",
      "Biscuit 1 placed at position 293\n",
      "Biscuit 1 placed at position 301\n",
      "Biscuit 1 placed at position 328\n",
      "Biscuit 1 placed at position 354\n",
      "Biscuit 1 placed at position 422\n",
      "Biscuit 3 placed at position 13\n",
      "Biscuit 3 placed at position 18\n",
      "Biscuit 3 placed at position 31\n",
      "Biscuit 3 placed at position 41\n",
      "Biscuit 3 placed at position 62\n",
      "Biscuit 3 placed at position 79\n",
      "Biscuit 3 placed at position 88\n",
      "Biscuit 3 placed at position 99\n",
      "Biscuit 3 placed at position 108\n",
      "Biscuit 3 placed at position 126\n",
      "Biscuit 3 placed at position 131\n",
      "Biscuit 3 placed at position 152\n",
      "Biscuit 3 placed at position 167\n",
      "Biscuit 3 placed at position 190\n",
      "Biscuit 3 placed at position 195\n",
      "Biscuit 3 placed at position 204\n",
      "Biscuit 3 placed at position 209\n",
      "Biscuit 3 placed at position 222\n",
      "Biscuit 3 placed at position 227\n",
      "Biscuit 3 placed at position 232\n",
      "Biscuit 3 placed at position 237\n",
      "Biscuit 3 placed at position 250\n",
      "Biscuit 3 placed at position 255\n",
      "Biscuit 3 placed at position 260\n",
      "Biscuit 3 placed at position 265\n",
      "Biscuit 3 placed at position 270\n",
      "Biscuit 3 placed at position 283\n",
      "Biscuit 3 placed at position 288\n",
      "Biscuit 3 placed at position 309\n",
      "Biscuit 3 placed at position 318\n",
      "Biscuit 3 placed at position 323\n",
      "Biscuit 3 placed at position 340\n",
      "Biscuit 3 placed at position 349\n",
      "Biscuit 3 placed at position 378\n",
      "Biscuit 3 placed at position 383\n",
      "Biscuit 3 placed at position 388\n",
      "Biscuit 3 placed at position 397\n",
      "Biscuit 3 placed at position 402\n",
      "Biscuit 3 placed at position 407\n",
      "Biscuit 3 placed at position 412\n",
      "Biscuit 3 placed at position 417\n",
      "Biscuit 3 placed at position 450\n",
      "Biscuit 3 placed at position 455\n",
      "Biscuit 3 placed at position 460\n",
      "Biscuit 3 placed at position 465\n",
      "Biscuit 3 placed at position 470\n",
      "Biscuit 3 placed at position 491\n"
     ]
    }
   ],
   "source": [
    "model = cp_model.CpModel()\n",
    "\n",
    "defects_df = pd.read_csv('defects.csv')\n",
    "biscuits = [\n",
    "    {'size': 4, 'value': 6, 'defects': {'a': 4, 'b': 2, 'c': 3}},\n",
    "    {'size': 8, 'value': 12, 'defects': {'a': 5, 'b': 4, 'c': 4}},\n",
    "    {'size': 2, 'value': 1, 'defects': {'a': 1, 'b': 2, 'c': 1}},\n",
    "    {'size': 5, 'value': 8, 'defects': {'a': 2, 'b': 3, 'c': 2}}\n",
    "]\n",
    "\n",
    "\n",
    "max_biscuits = LENGTH // min(b['size'] for b in biscuits)\n",
    "biscuit_vars = {}\n",
    "for i, biscuit in enumerate(biscuits):\n",
    "    for pos in range(LENGTH - biscuit['size'] + 1):\n",
    "        biscuit_vars[(i, pos)] = model.NewBoolVar(f'biscuit_{i}_pos_{pos}')\n",
    "\n",
    "\n",
    "for pos in range(LENGTH):\n",
    "    model.Add(sum(biscuit_vars[(i, p)] for i, biscuit in enumerate(biscuits) for p in range(max(0, pos - biscuit['size'] + 1), min(LENGTH - biscuit['size'], pos) + 1)) <= 1)\n",
    "\n",
    "\n",
    "for biscuit_index, biscuit in enumerate(biscuits):\n",
    "    for defect_class in ['a', 'b', 'c']:\n",
    "        for pos in range(LENGTH - biscuit['size'] + 1):\n",
    "            defect_count = defects_df[(defects_df['x'] >= pos) & (defects_df['x'] < pos + biscuit['size']) & (defects_df['class'] == defect_class)].shape[0]\n",
    "            model.Add(biscuit_vars[(biscuit_index, pos)] * defect_count <= biscuit['defects'][defect_class])\n",
    "\n",
    "\n",
    "model.Maximize(\n",
    "    sum(biscuit_vars[(i, pos)] * biscuit['value'] for i, biscuit in enumerate(biscuits) for pos in range(LENGTH - biscuit['size'] + 1))\n",
    ")\n",
    "\n",
    "\n",
    "solver = cp_model.CpSolver()\n",
    "status = solver.Solve(model)\n",
    "\n",
    "\n",
    "if status == cp_model.OPTIMAL:\n",
    "    print(\"Maximum value:\", solver.ObjectiveValue())\n",
    "    for i, biscuit in enumerate(biscuits):\n",
    "        for pos in range(LENGTH - biscuit['size'] + 1):\n",
    "            if solver.BooleanValue(biscuit_vars[(i, pos)]):\n",
    "                print(f\"Biscuit {i} placed at position {pos}\")\n",
    "else:\n",
    "    print(\"No solution found.\")"
   ]
  },
  {
   "cell_type": "markdown",
   "metadata": {},
   "source": [
    "By using the CSP we notice that the run time was much faster than the genetic algorithm. In addition to that, the fitness score is higher, here we have 760 and in the GA we had 724. Finally it seems that in this solution there is no placement for the biscuit of type 2. "
   ]
  }
 ],
 "metadata": {
  "kernelspec": {
   "display_name": "Python 3",
   "language": "python",
   "name": "python3"
  },
  "language_info": {
   "codemirror_mode": {
    "name": "ipython",
    "version": 3
   },
   "file_extension": ".py",
   "mimetype": "text/x-python",
   "name": "python",
   "nbconvert_exporter": "python",
   "pygments_lexer": "ipython3",
   "version": "3.11.7"
  }
 },
 "nbformat": 4,
 "nbformat_minor": 2
}
